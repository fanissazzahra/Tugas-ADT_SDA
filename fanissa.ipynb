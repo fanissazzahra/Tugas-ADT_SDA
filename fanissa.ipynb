{
  "nbformat": 4,
  "nbformat_minor": 0,
  "metadata": {
    "colab": {
      "name": "Untitled3.ipynb",
      "provenance": [],
      "collapsed_sections": []
    },
    "kernelspec": {
      "name": "python3",
      "display_name": "Python 3"
    },
    "language_info": {
      "name": "python"
    }
  },
  "cells": [
    {
      "cell_type": "code",
      "execution_count": 6,
      "metadata": {
        "colab": {
          "base_uri": "https://localhost:8080/"
        },
        "id": "CGsySxf3O4R-",
        "outputId": "db42c7ee-ece5-415d-abb1-39c26d16fe5b"
      },
      "outputs": [
        {
          "output_type": "stream",
          "name": "stdout",
          "text": [
            "TOKO Faira store\n",
            "Nama Kasir : Fanissa\n",
            "Pembeli: Rani\n",
            "Total belanja Rp.120000\n",
            "Selamat Anda Mendapatkan Diskon 30%\n",
            "Total belanja anda , Rp. 120000\n",
            "Potongan haga, Rp, 36000.0\n",
            "Anda cukup bayar, Rp. 84000.0\n",
            "TERIMA KASIH SUDAH BELANJA:)\n"
          ]
        }
      ],
      "source": [
        "#Abstract Data Types \n",
        "\n",
        "print('TOKO Faira store')\n",
        "print('Nama Kasir : Fanissa')\n",
        "print('Pembeli: Rani')\n",
        "belanja = int(input('Total belanja Rp.'))\n",
        "if belanja < 75000 :\n",
        "   diskon = belanja *10/100\n",
        "   print ('Selamat Anda Mendapatkan Diskon 10%')\n",
        "elif belanja < 100000 :\n",
        "   diskon = belanja *20/100\n",
        "   print ('Selamat Anda Mendapatkan Diskon 20%')\n",
        "else :\n",
        "   diskon = belanja *30/100\n",
        "   print ('Selamat Anda Mendapatkan Diskon 30%')\n",
        "  \n",
        "bayar = belanja - diskon\n",
        "print('Total belanja anda , Rp.', belanja)\n",
        "print('Potongan haga, Rp,', diskon)\n",
        "print('Anda cukup bayar, Rp.', bayar)\n",
        "print('TERIMA KASIH SUDAH BELANJA:)')"
      ]
    }
  ]
}